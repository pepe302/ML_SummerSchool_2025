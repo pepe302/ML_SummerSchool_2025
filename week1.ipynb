{
 "cells": [
  {
   "cell_type": "code",
   "execution_count": 5,
   "id": "d30352e9-e044-491e-9d37-dd494e29db3f",
   "metadata": {},
   "outputs": [
    {
     "name": "stdout",
     "output_type": "stream",
     "text": [
      "         Day  Temperature  Humidity  Wind Speed\n",
      "0     Monday           25        60          15\n",
      "1    Tuesday           28        55          10\n",
      "2  Wednesday           30        50          20\n",
      "3   Thursday           22        70          10\n",
      "4     Friday           26        65           8\n",
      "5   Saturday           27        60           5\n",
      "6     Sunday           24        75          12\n"
     ]
    }
   ],
   "source": [
    "import pandas as pd\n",
    "import numpy as np\n",
    "data = pd.read_csv(\"weather_data.csv\")\n",
    "print(data)"
   ]
  },
  {
   "cell_type": "code",
   "execution_count": 6,
   "id": "cd852668-c0ba-422f-b04f-a845144bf3f5",
   "metadata": {},
   "outputs": [
    {
     "name": "stdout",
     "output_type": "stream",
     "text": [
      "         Day  Temperature  Humidity  Wind Speed  Comfort Level\n",
      "0     Monday           25        60          15           37.0\n",
      "1    Tuesday           28        55          10           35.2\n",
      "2  Wednesday           30        50          20           36.0\n",
      "3   Thursday           22        70          10           38.8\n",
      "4     Friday           26        65           8           38.0\n",
      "5   Saturday           27        60           5           35.8\n",
      "6     Sunday           24        75          12           42.0\n"
     ]
    }
   ],
   "source": [
    "data['Comfort Score']=data['Temperature']* 0.4 + data['Humidity'] * 0.4 + data['Wind Speed'] * 0.2\n",
    "print(data)"
   ]
  },
  {
   "cell_type": "markdown",
   "id": "ecc4cb93-5c84-4304-a55c-ec3f9034e7b4",
   "metadata": {},
   "source": [
    "Sunday is the best day to go out based on the comfort score"
   ]
  }
 ],
 "metadata": {
  "kernelspec": {
   "display_name": "Python 3 (ipykernel)",
   "language": "python",
   "name": "python3"
  },
  "language_info": {
   "codemirror_mode": {
    "name": "ipython",
    "version": 3
   },
   "file_extension": ".py",
   "mimetype": "text/x-python",
   "name": "python",
   "nbconvert_exporter": "python",
   "pygments_lexer": "ipython3",
   "version": "3.13.3"
  }
 },
 "nbformat": 4,
 "nbformat_minor": 5
}
